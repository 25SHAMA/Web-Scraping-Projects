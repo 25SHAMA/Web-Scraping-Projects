{
 "cells": [
  {
   "cell_type": "code",
   "execution_count": 25,
   "id": "7376fa28-fd27-438f-881a-3af4eac45910",
   "metadata": {},
   "outputs": [],
   "source": [
    "import numpy as np\n",
    "import pandas as pd\n",
    "\n",
    "from bs4 import BeautifulSoup\n",
    "from selenium import webdriver"
   ]
  },
  {
   "cell_type": "code",
   "execution_count": 26,
   "id": "0a319bf9-ef95-4b52-b8b8-8dc5575471fa",
   "metadata": {},
   "outputs": [],
   "source": [
    "driver = webdriver.Chrome()\n",
    "driver.get('https://www.youtube.com/c/GeeksforGeeksVideos/videos')"
   ]
  },
  {
   "cell_type": "code",
   "execution_count": 48,
   "id": "4038eb70-9e99-40fb-ad83-b4e8f00790e6",
   "metadata": {},
   "outputs": [],
   "source": [
    "soup = BeautifulSoup(driver.page_source,'html.parser')"
   ]
  },
  {
   "cell_type": "code",
   "execution_count": 49,
   "id": "dd16ae25-0072-45f7-b9e1-819b9d80f93f",
   "metadata": {},
   "outputs": [],
   "source": [
    "data = []\n",
    "\n",
    "for sp in soup.find_all('ytd-rich-item-renderer'):\n",
    "    \n",
    "    title      = sp.find('a', class_ = 'yt-simple-endpoint focus-on-expand style-scope ytd-rich-grid-media').text\n",
    "    video_link = sp.find('a', class_ = 'yt-simple-endpoint focus-on-expand style-scope ytd-rich-grid-media').get('href')\n",
    "\n",
    "    try:\n",
    "        views  = sp.find_all('span', class_ = 'inline-metadata-item style-scope ytd-video-meta-block')[0].text\n",
    "    except:\n",
    "        views  = np.nan\n",
    "    try:\n",
    "        date_time  = sp.find_all('span', class_ = 'inline-metadata-item style-scope ytd-video-meta-block')[1].text\n",
    "    except:\n",
    "        date_time  = np.nan\n",
    "\n",
    "    try:\n",
    "        thumbnail_link = sp.find('img').get('src').split('?')[0]\n",
    "    except:\n",
    "        thumbnail_link = np.nan\n",
    "        \n",
    "    \n",
    "    data.append([title, views, date_time, video_link,thumbnail_link])"
   ]
  },
  {
   "cell_type": "code",
   "execution_count": 50,
   "id": "0dcd5841-8510-403d-af7c-819503a9f89e",
   "metadata": {},
   "outputs": [
    {
     "data": {
      "text/plain": [
       "2164"
      ]
     },
     "execution_count": 50,
     "metadata": {},
     "output_type": "execute_result"
    }
   ],
   "source": [
    "len(data)"
   ]
  },
  {
   "cell_type": "code",
   "execution_count": 62,
   "id": "e5cd4455-c4f0-4674-9417-1c81ba9287cd",
   "metadata": {},
   "outputs": [
    {
     "data": {
      "text/plain": [
       "['Longest Span with same Sum in two Binary arrays | GeeksforGeeks',\n",
       " '312K views',\n",
       " '9 years ago',\n",
       " '/watch?v=xtfj4-r_Ahs',\n",
       " 'https://i.ytimg.com/vi/xtfj4-r_Ahs/hqdefault.jpg']"
      ]
     },
     "execution_count": 62,
     "metadata": {},
     "output_type": "execute_result"
    }
   ],
   "source": [
    "data[2163]"
   ]
  },
  {
   "cell_type": "code",
   "execution_count": 63,
   "id": "f632e80f-9234-42b8-9329-bb740120dbd8",
   "metadata": {},
   "outputs": [],
   "source": [
    "df = pd.DataFrame(data, columns = ['title','views','date_time','video_link','thumbnail_link'])"
   ]
  },
  {
   "cell_type": "code",
   "execution_count": 64,
   "id": "38b312b4-d3f7-4eaa-879e-1ad49ffffbfc",
   "metadata": {},
   "outputs": [
    {
     "data": {
      "text/html": [
       "<div>\n",
       "<style scoped>\n",
       "    .dataframe tbody tr th:only-of-type {\n",
       "        vertical-align: middle;\n",
       "    }\n",
       "\n",
       "    .dataframe tbody tr th {\n",
       "        vertical-align: top;\n",
       "    }\n",
       "\n",
       "    .dataframe thead th {\n",
       "        text-align: right;\n",
       "    }\n",
       "</style>\n",
       "<table border=\"1\" class=\"dataframe\">\n",
       "  <thead>\n",
       "    <tr style=\"text-align: right;\">\n",
       "      <th></th>\n",
       "      <th>title</th>\n",
       "      <th>views</th>\n",
       "      <th>date_time</th>\n",
       "      <th>video_link</th>\n",
       "      <th>thumbnail_link</th>\n",
       "    </tr>\n",
       "  </thead>\n",
       "  <tbody>\n",
       "    <tr>\n",
       "      <th>0</th>\n",
       "      <td>How to start coding In 2026? | Learn Programmi...</td>\n",
       "      <td>4.5K views</td>\n",
       "      <td>1 day ago</td>\n",
       "      <td>/watch?v=V_rCqfmT1ZE&amp;pp=0gcJCfYJAYcqIYzv</td>\n",
       "      <td>https://i.ytimg.com/vi/V_rCqfmT1ZE/hqdefault.jpg</td>\n",
       "    </tr>\n",
       "    <tr>\n",
       "      <th>1</th>\n",
       "      <td>DSA In Java | Oops | Java in One Shot | Oops i...</td>\n",
       "      <td>3.6K views</td>\n",
       "      <td>2 days ago</td>\n",
       "      <td>/watch?v=BPABIrkX50M</td>\n",
       "      <td>https://i.ytimg.com/vi/BPABIrkX50M/hqdefault.jpg</td>\n",
       "    </tr>\n",
       "    <tr>\n",
       "      <th>2</th>\n",
       "      <td>GATE 2026 Crash Course by GeeksforGeeks | Comp...</td>\n",
       "      <td>881 views</td>\n",
       "      <td>4 days ago</td>\n",
       "      <td>/watch?v=c3UJ5oM4JWc</td>\n",
       "      <td>https://i.ytimg.com/vi/c3UJ5oM4JWc/hqdefault.jpg</td>\n",
       "    </tr>\n",
       "    <tr>\n",
       "      <th>3</th>\n",
       "      <td>What to do after BCA? Job vs MCA | Best Career...</td>\n",
       "      <td>15K views</td>\n",
       "      <td>7 days ago</td>\n",
       "      <td>/watch?v=9Xkp9lXuoKo</td>\n",
       "      <td>https://i.ytimg.com/vi/9Xkp9lXuoKo/hqdefault.jpg</td>\n",
       "    </tr>\n",
       "    <tr>\n",
       "      <th>4</th>\n",
       "      <td>Paid Batches Vs Free Batches | Which Is Better?</td>\n",
       "      <td>5.2K views</td>\n",
       "      <td>8 days ago</td>\n",
       "      <td>/watch?v=bGxHQJ48uWE</td>\n",
       "      <td>https://i.ytimg.com/vi/bGxHQJ48uWE/hqdefault.jpg</td>\n",
       "    </tr>\n",
       "    <tr>\n",
       "      <th>...</th>\n",
       "      <td>...</td>\n",
       "      <td>...</td>\n",
       "      <td>...</td>\n",
       "      <td>...</td>\n",
       "      <td>...</td>\n",
       "    </tr>\n",
       "    <tr>\n",
       "      <th>2159</th>\n",
       "      <td>Length of shortest chain to reach a target wor...</td>\n",
       "      <td>44K views</td>\n",
       "      <td>9 years ago</td>\n",
       "      <td>/watch?v=6pIC20wCm20</td>\n",
       "      <td>https://i.ytimg.com/vi/6pIC20wCm20/hqdefault.jpg</td>\n",
       "    </tr>\n",
       "    <tr>\n",
       "      <th>2160</th>\n",
       "      <td>Binary Search | GeeksQuiz</td>\n",
       "      <td>192K views</td>\n",
       "      <td>9 years ago</td>\n",
       "      <td>/watch?v=T2sFYY-fT5o</td>\n",
       "      <td>https://i.ytimg.com/vi/T2sFYY-fT5o/hqdefault.jpg</td>\n",
       "    </tr>\n",
       "    <tr>\n",
       "      <th>2161</th>\n",
       "      <td>Number of Triangles in an Undirected Graph | G...</td>\n",
       "      <td>20K views</td>\n",
       "      <td>9 years ago</td>\n",
       "      <td>/watch?v=ChdNz1Ui1uc</td>\n",
       "      <td>https://i.ytimg.com/vi/ChdNz1Ui1uc/hqdefault.jpg</td>\n",
       "    </tr>\n",
       "    <tr>\n",
       "      <th>2162</th>\n",
       "      <td>Write a program to print all permutations of a...</td>\n",
       "      <td>493K views</td>\n",
       "      <td>9 years ago</td>\n",
       "      <td>/watch?v=AfxHGNRtFac</td>\n",
       "      <td>https://i.ytimg.com/vi/AfxHGNRtFac/hqdefault.jpg</td>\n",
       "    </tr>\n",
       "    <tr>\n",
       "      <th>2163</th>\n",
       "      <td>Longest Span with same Sum in two Binary array...</td>\n",
       "      <td>312K views</td>\n",
       "      <td>9 years ago</td>\n",
       "      <td>/watch?v=xtfj4-r_Ahs</td>\n",
       "      <td>https://i.ytimg.com/vi/xtfj4-r_Ahs/hqdefault.jpg</td>\n",
       "    </tr>\n",
       "  </tbody>\n",
       "</table>\n",
       "<p>2164 rows × 5 columns</p>\n",
       "</div>"
      ],
      "text/plain": [
       "                                                  title       views  \\\n",
       "0     How to start coding In 2026? | Learn Programmi...  4.5K views   \n",
       "1     DSA In Java | Oops | Java in One Shot | Oops i...  3.6K views   \n",
       "2     GATE 2026 Crash Course by GeeksforGeeks | Comp...   881 views   \n",
       "3     What to do after BCA? Job vs MCA | Best Career...   15K views   \n",
       "4       Paid Batches Vs Free Batches | Which Is Better?  5.2K views   \n",
       "...                                                 ...         ...   \n",
       "2159  Length of shortest chain to reach a target wor...   44K views   \n",
       "2160                          Binary Search | GeeksQuiz  192K views   \n",
       "2161  Number of Triangles in an Undirected Graph | G...   20K views   \n",
       "2162  Write a program to print all permutations of a...  493K views   \n",
       "2163  Longest Span with same Sum in two Binary array...  312K views   \n",
       "\n",
       "        date_time                                video_link  \\\n",
       "0       1 day ago  /watch?v=V_rCqfmT1ZE&pp=0gcJCfYJAYcqIYzv   \n",
       "1      2 days ago                      /watch?v=BPABIrkX50M   \n",
       "2      4 days ago                      /watch?v=c3UJ5oM4JWc   \n",
       "3      7 days ago                      /watch?v=9Xkp9lXuoKo   \n",
       "4      8 days ago                      /watch?v=bGxHQJ48uWE   \n",
       "...           ...                                       ...   \n",
       "2159  9 years ago                      /watch?v=6pIC20wCm20   \n",
       "2160  9 years ago                      /watch?v=T2sFYY-fT5o   \n",
       "2161  9 years ago                      /watch?v=ChdNz1Ui1uc   \n",
       "2162  9 years ago                      /watch?v=AfxHGNRtFac   \n",
       "2163  9 years ago                      /watch?v=xtfj4-r_Ahs   \n",
       "\n",
       "                                        thumbnail_link  \n",
       "0     https://i.ytimg.com/vi/V_rCqfmT1ZE/hqdefault.jpg  \n",
       "1     https://i.ytimg.com/vi/BPABIrkX50M/hqdefault.jpg  \n",
       "2     https://i.ytimg.com/vi/c3UJ5oM4JWc/hqdefault.jpg  \n",
       "3     https://i.ytimg.com/vi/9Xkp9lXuoKo/hqdefault.jpg  \n",
       "4     https://i.ytimg.com/vi/bGxHQJ48uWE/hqdefault.jpg  \n",
       "...                                                ...  \n",
       "2159  https://i.ytimg.com/vi/6pIC20wCm20/hqdefault.jpg  \n",
       "2160  https://i.ytimg.com/vi/T2sFYY-fT5o/hqdefault.jpg  \n",
       "2161  https://i.ytimg.com/vi/ChdNz1Ui1uc/hqdefault.jpg  \n",
       "2162  https://i.ytimg.com/vi/AfxHGNRtFac/hqdefault.jpg  \n",
       "2163  https://i.ytimg.com/vi/xtfj4-r_Ahs/hqdefault.jpg  \n",
       "\n",
       "[2164 rows x 5 columns]"
      ]
     },
     "execution_count": 64,
     "metadata": {},
     "output_type": "execute_result"
    }
   ],
   "source": [
    "df"
   ]
  },
  {
   "cell_type": "code",
   "execution_count": 65,
   "id": "5db7aa42-8205-4edf-9e0e-08731bb4298f",
   "metadata": {},
   "outputs": [
    {
     "data": {
      "text/plain": [
       "title               0\n",
       "views               0\n",
       "date_time           0\n",
       "video_link          0\n",
       "thumbnail_link    142\n",
       "dtype: int64"
      ]
     },
     "execution_count": 65,
     "metadata": {},
     "output_type": "execute_result"
    }
   ],
   "source": [
    "df.isnull().sum()"
   ]
  },
  {
   "cell_type": "code",
   "execution_count": 67,
   "id": "f4292ffa-9281-4d9e-996e-1819ba1b4a6d",
   "metadata": {},
   "outputs": [],
   "source": [
    "df.to_csv('data.csv',index = False)"
   ]
  },
  {
   "cell_type": "code",
   "execution_count": null,
   "id": "4803dc22-0f40-4fca-85b4-3577296e2e02",
   "metadata": {},
   "outputs": [],
   "source": []
  }
 ],
 "metadata": {
  "kernelspec": {
   "display_name": "Python 3 (ipykernel)",
   "language": "python",
   "name": "python3"
  },
  "language_info": {
   "codemirror_mode": {
    "name": "ipython",
    "version": 3
   },
   "file_extension": ".py",
   "mimetype": "text/x-python",
   "name": "python",
   "nbconvert_exporter": "python",
   "pygments_lexer": "ipython3",
   "version": "3.11.0"
  }
 },
 "nbformat": 4,
 "nbformat_minor": 5
}
